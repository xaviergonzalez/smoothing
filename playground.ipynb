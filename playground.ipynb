{
 "cells": [
  {
   "cell_type": "code",
   "execution_count": 1,
   "metadata": {},
   "outputs": [],
   "source": [
    "import pandas as pd\n",
    "import numpy as np\n",
    "import matplotlib.pyplot as plt\n",
    "\n",
    "import torch\n",
    "\n",
    "from seaborn import heatmap\n",
    "\n",
    "import sys\n",
    "\n",
    "from time import time"
   ]
  },
  {
   "cell_type": "code",
   "execution_count": 2,
   "metadata": {},
   "outputs": [],
   "source": [
    "sys.path.insert(0, 'code/')\n",
    "\n",
    "from architectures import get_architecture\n",
    "from find_jacobian import find_jacobian\n",
    "from datasets import get_dataset, DATASETS, get_num_classes"
   ]
  },
  {
   "cell_type": "code",
   "execution_count": 205,
   "metadata": {},
   "outputs": [],
   "source": [
    "train_dataset = get_dataset('mnist', 'train')\n",
    "x = train_dataset[2][0]\n",
    "x = x.cuda()"
   ]
  },
  {
   "cell_type": "code",
   "execution_count": 288,
   "metadata": {},
   "outputs": [],
   "source": [
    "def get_eigs(x, noise_lst, h_size, non_lin):\n",
    "    \"\"\"\n",
    "    Returns the eigenvalues of the pullback noise\n",
    "    x is an example\n",
    "    non_lin: 0 if linear layer, 1 if nonlinear layer\n",
    "    NOTE: it is much faster to get eigenvalues using the SVD\n",
    "    NOTE: much faster to pull the weight matrix than to extract using jacobian\n",
    "    \"\"\"\n",
    "    if non_lin:\n",
    "        f = \"mnist_models/nonlinear/hlayer\" + str(h_size) + \"/\" + str(noise_lst[0]) + \"-\" + str(noise_lst[1]) + \"/checkpoint.pth.tar\"\n",
    "    else:\n",
    "        f = \"mnist_models/linear/hlayer\" + str(h_size) + \"/\" + str(noise_lst[0]) + \"-\" + str(noise_lst[1]) + \"/checkpoint.pth.tar\"\n",
    "    checkpoint = torch.load(f)\n",
    "    base_classifier = get_architecture(checkpoint[\"arch\"], \"mnist\", noise_std = noise_lst, hidden_size = h_size, nonlinear = non_lin)\n",
    "    base_classifier.load_state_dict(checkpoint['state_dict'])\n",
    "    x.requires_grad_(True)\n",
    "    params = [p.cpu().detach().numpy() for p in base_classifier.parameters()]\n",
    "    A = params[0]\n",
    "    ready = (base_classifier(x)[1] > 0).cpu().numpy()\n",
    "    screen = vf(ready)\n",
    "    A = A * screen[:, np.newaxis]\n",
    "    hid_len, inp_len = np.shape(A)\n",
    "    R = np.transpose(A) @ np.linalg.inv(A @ np.transpose(A))\n",
    "    a,b,c = np.linalg.svd(R)\n",
    "    eig_vals = np.zeros(inp_len)\n",
    "    eig_vals[:hid_len] = (noise_lst[1] ** 2) * (b ** 2)\n",
    "    eig_vals = eig_vals + (noise_lst[0] ** 2)\n",
    "    eig_vecs = a\n",
    "    return eig_vecs"
   ]
  },
  {
   "cell_type": "code",
   "execution_count": 289,
   "metadata": {},
   "outputs": [
    {
     "data": {
      "text/plain": [
       "array([[ 0.05157318, -0.04468153,  0.01065788, ...,  0.05083946,\n",
       "         0.05577537,  0.03567858],\n",
       "       [-0.02528101, -0.02225534, -0.0077503 , ...,  0.01066244,\n",
       "         0.00801789,  0.02936628],\n",
       "       [ 0.07472151, -0.00662703, -0.01800855, ..., -0.032464  ,\n",
       "        -0.02024819, -0.02653608],\n",
       "       ...,\n",
       "       [ 0.01007533,  0.00226573, -0.04672923, ...,  0.93746769,\n",
       "        -0.02323371, -0.0276094 ],\n",
       "       [-0.06095836,  0.01948028, -0.06296546, ..., -0.02796314,\n",
       "         0.9686967 , -0.01998319],\n",
       "       [ 0.01147381,  0.08192051, -0.03248745, ..., -0.03180793,\n",
       "        -0.02007472,  0.95460583]])"
      ]
     },
     "execution_count": 289,
     "metadata": {},
     "output_type": "execute_result"
    }
   ],
   "source": [
    "get_eigs(x, [0, 0.25], 44, 1)"
   ]
  },
  {
   "cell_type": "code",
   "execution_count": 290,
   "metadata": {},
   "outputs": [],
   "source": [
    "A = np.array([[1,2], [3,4], [5,6]])"
   ]
  },
  {
   "cell_type": "code",
   "execution_count": 291,
   "metadata": {},
   "outputs": [],
   "source": [
    "a,b,c = np.linalg.svd(A)"
   ]
  },
  {
   "cell_type": "code",
   "execution_count": 297,
   "metadata": {},
   "outputs": [
    {
     "data": {
      "text/plain": [
       "array([ 0.88346102,  0.24078249, -0.40189603])"
      ]
     },
     "execution_count": 297,
     "metadata": {},
     "output_type": "execute_result"
    }
   ],
   "source": [
    "a[:,1]"
   ]
  },
  {
   "cell_type": "code",
   "execution_count": 296,
   "metadata": {},
   "outputs": [
    {
     "data": {
      "text/plain": [
       "array([[-0.2298477 , -0.88346102,  0.40824829],\n",
       "       [-0.52474482, -0.24078249, -0.81649658],\n",
       "       [-0.81964194,  0.40189603,  0.40824829]])"
      ]
     },
     "execution_count": 296,
     "metadata": {},
     "output_type": "execute_result"
    }
   ],
   "source": [
    "np.linalg.eig(A @ np.transpose(A))[1]"
   ]
  },
  {
   "cell_type": "code",
   "execution_count": 255,
   "metadata": {},
   "outputs": [
    {
     "data": {
      "text/plain": [
       "<All keys matched successfully>"
      ]
     },
     "execution_count": 255,
     "metadata": {},
     "output_type": "execute_result"
    }
   ],
   "source": [
    "x = train_dataset[1][0]\n",
    "x = x.cuda()\n",
    "x.requires_grad_(True)\n",
    "f = \"mnist_models/nonlinear/hlayer444/0.25-0.25/checkpoint.pth.tar\"\n",
    "checkpoint = torch.load(f)\n",
    "base_classifier = get_architecture(checkpoint[\"arch\"], \"mnist\", noise_std = [0, 0.25], hidden_size = 444, nonlinear = 1)\n",
    "base_classifier.load_state_dict(checkpoint['state_dict'])"
   ]
  },
  {
   "cell_type": "code",
   "execution_count": 259,
   "metadata": {},
   "outputs": [],
   "source": [
    "def f(x):\n",
    "    if x:\n",
    "        return 1.0\n",
    "    else:\n",
    "        return 0.1\n",
    "vf = np.vectorize(f)"
   ]
  },
  {
   "cell_type": "code",
   "execution_count": 260,
   "metadata": {},
   "outputs": [],
   "source": [
    "ready1 = (base_classifier(x)[1] > 0).cpu().numpy()\n",
    "ready2 = (base_classifier(xn)[1] > 0).cpu().numpy()"
   ]
  },
  {
   "cell_type": "code",
   "execution_count": 273,
   "metadata": {},
   "outputs": [],
   "source": [
    "screen = vf(ready1)"
   ]
  },
  {
   "cell_type": "code",
   "execution_count": 274,
   "metadata": {},
   "outputs": [],
   "source": [
    "params = [p.cpu().detach().numpy() for p in base_classifier.parameters()]\n",
    "A = params[0]"
   ]
  },
  {
   "cell_type": "code",
   "execution_count": 275,
   "metadata": {},
   "outputs": [
    {
     "data": {
      "text/plain": [
       "<matplotlib.axes._subplots.AxesSubplot at 0x7f53ea9e69d0>"
      ]
     },
     "execution_count": 275,
     "metadata": {},
     "output_type": "execute_result"
    },
    {
     "data": {
      "image/png": "[encoded data removed]",
      "text/plain": [
       "<Figure size 432x288 with 2 Axes>"
      ]
     },
     "metadata": {
      "needs_background": "light"
     },
     "output_type": "display_data"
    }
   ],
   "source": [
    "heatmap(A / find_jacobian(x, base_classifier(x)[1]).cpu().numpy())"
   ]
  },
  {
   "cell_type": "code",
   "execution_count": 278,
   "metadata": {},
   "outputs": [
    {
     "data": {
      "text/plain": [
       "-7.152486858780729e-08"
      ]
     },
     "execution_count": 278,
     "metadata": {},
     "output_type": "execute_result"
    }
   ],
   "source": [
    "np.min(np.log(A * screen[:, np.newaxis] / find_jacobian(x, base_classifier(x)[1]).cpu().numpy()))"
   ]
  },
  {
   "cell_type": "code",
   "execution_count": 177,
   "metadata": {},
   "outputs": [
    {
     "data": {
      "text/plain": [
       "array([[ 0.00273031, -0.00099512, -0.0001312 , ..., -0.00489287,\n",
       "        -0.00166439, -0.00267506],\n",
       "       [-0.00026209,  0.00377592,  0.00124153, ..., -0.00158126,\n",
       "         0.00051839, -0.00111563],\n",
       "       [-0.01250987,  0.01984268, -0.00719248, ...,  0.00570794,\n",
       "         0.05085267,  0.00292758],\n",
       "       ...,\n",
       "       [ 0.02841583, -0.01869331, -0.00169509, ...,  0.02762552,\n",
       "        -0.00280361,  0.01489423],\n",
       "       [-0.00110467,  0.0017782 ,  0.00207048, ..., -0.00323955,\n",
       "         0.00098791,  0.00183302],\n",
       "       [ 0.00901977,  0.00626463,  0.00838825, ...,  0.00911675,\n",
       "        -0.0005105 , -0.01838518]], dtype=float32)"
      ]
     },
     "execution_count": 177,
     "metadata": {},
     "output_type": "execute_result"
    }
   ],
   "source": [
    "find_jacobian(x, base_classifier(x)[1]).cpu().numpy()"
   ]
  },
  {
   "cell_type": "code",
   "execution_count": 92,
   "metadata": {},
   "outputs": [
    {
     "data": {
      "text/plain": [
       "array([[1, 2, 3],\n",
       "       [4, 5, 6],\n",
       "       [7, 8, 9]])"
      ]
     },
     "execution_count": 92,
     "metadata": {},
     "output_type": "execute_result"
    }
   ],
   "source": [
    "m = np.array([[1,2,3],[4,5,6],[7,8,9]])\n",
    "m"
   ]
  },
  {
   "cell_type": "code",
   "execution_count": 93,
   "metadata": {},
   "outputs": [
    {
     "data": {
      "text/plain": [
       "array([0, 1, 2])"
      ]
     },
     "execution_count": 93,
     "metadata": {},
     "output_type": "execute_result"
    }
   ],
   "source": [
    "c = np.array([0,1,2])\n",
    "c"
   ]
  },
  {
   "cell_type": "code",
   "execution_count": 94,
   "metadata": {},
   "outputs": [
    {
     "data": {
      "text/plain": [
       "array([[ 0,  2,  6],\n",
       "       [ 0,  5, 12],\n",
       "       [ 0,  8, 18]])"
      ]
     },
     "execution_count": 94,
     "metadata": {},
     "output_type": "execute_result"
    }
   ],
   "source": [
    "m * c"
   ]
  },
  {
   "cell_type": "code",
   "execution_count": 95,
   "metadata": {},
   "outputs": [
    {
     "data": {
      "text/plain": [
       "array([[ 0,  0,  0],\n",
       "       [ 4,  5,  6],\n",
       "       [14, 16, 18]])"
      ]
     },
     "execution_count": 95,
     "metadata": {},
     "output_type": "execute_result"
    }
   ],
   "source": [
    " m * c[:, np.newaxis]"
   ]
  },
  {
   "cell_type": "code",
   "execution_count": 284,
   "metadata": {},
   "outputs": [
    {
     "name": "stdout",
     "output_type": "stream",
     "text": [
      "0.8799512386322021\n"
     ]
    }
   ],
   "source": [
    "before_time = time()\n",
    "for i in range(100):\n",
    "    eigs = get_eigs(x, [0, 0.25], 20, 1, 1)\n",
    "after_time = time()\n",
    "print(after_time - before_time)"
   ]
  },
  {
   "cell_type": "code",
   "execution_count": 285,
   "metadata": {},
   "outputs": [
    {
     "name": "stdout",
     "output_type": "stream",
     "text": [
      "1.3775160312652588\n"
     ]
    }
   ],
   "source": [
    "before_time = time()\n",
    "for i in range(100):\n",
    "    eigs = get_eigs(x, [0, 0.25], 20, 1, 0)\n",
    "after_time = time()\n",
    "print(after_time - before_time)"
   ]
  },
  {
   "cell_type": "code",
   "execution_count": 63,
   "metadata": {},
   "outputs": [
    {
     "name": "stdout",
     "output_type": "stream",
     "text": [
      "20\n",
      "2.4835484833805346\n"
     ]
    },
    {
     "data": {
      "image/png": "[encoded data removed]",
      "text/plain": [
       "<Figure size 432x288 with 1 Axes>"
      ]
     },
     "metadata": {
      "needs_background": "light"
     },
     "output_type": "display_data"
    },
    {
     "name": "stdout",
     "output_type": "stream",
     "text": [
      "44\n",
      "3.4922266290721504\n"
     ]
    },
    {
     "data": {
      "image/png": "[encoded data removed]",
      "text/plain": [
       "<Figure size 432x288 with 1 Axes>"
      ]
     },
     "metadata": {
      "needs_background": "light"
     },
     "output_type": "display_data"
    },
    {
     "name": "stdout",
     "output_type": "stream",
     "text": [
      "200\n",
      "6.336016689711409\n"
     ]
    },
    {
     "data": {
      "image/png": "[encoded data removed]",
      "text/plain": [
       "<Figure size 432x288 with 1 Axes>"
      ]
     },
     "metadata": {
      "needs_background": "light"
     },
     "output_type": "display_data"
    },
    {
     "name": "stdout",
     "output_type": "stream",
     "text": [
      "444\n"
     ]
    },
    {
     "name": "stderr",
     "output_type": "stream",
     "text": [
      "<ipython-input-63-369f171b459e>:4: RuntimeWarning: invalid value encountered in sqrt\n",
      "  rads = np.sort(np.sqrt(eigs))\n"
     ]
    },
    {
     "name": "stdout",
     "output_type": "stream",
     "text": [
      "2794.196048200422\n"
     ]
    },
    {
     "data": {
      "image/png": "[encoded data removed]",
      "text/plain": [
       "<Figure size 432x288 with 1 Axes>"
      ]
     },
     "metadata": {
      "needs_background": "light"
     },
     "output_type": "display_data"
    }
   ],
   "source": [
    "for h in [20, 44, 200, 444]:\n",
    "    print(h)\n",
    "    eigs = get_eigs(x,[0.12, 0.12], h, 1, 1)\n",
    "    rads = np.sort(np.sqrt(eigs))\n",
    "    print(max(rads))\n",
    "    plt.bar(np.array(range(DIMS)), np.sort(rads))\n",
    "    plt.show()"
   ]
  },
  {
   "cell_type": "code",
   "execution_count": 62,
   "metadata": {},
   "outputs": [
    {
     "name": "stdout",
     "output_type": "stream",
     "text": [
      "20\n",
      "2.484656262945665\n"
     ]
    },
    {
     "data": {
      "image/png": "[encoded data removed]",
      "text/plain": [
       "<Figure size 432x288 with 1 Axes>"
      ]
     },
     "metadata": {
      "needs_background": "light"
     },
     "output_type": "display_data"
    },
    {
     "name": "stdout",
     "output_type": "stream",
     "text": [
      "44\n",
      "3.4921515197129263\n"
     ]
    },
    {
     "data": {
      "image/png": "[encoded data removed]",
      "text/plain": [
       "<Figure size 432x288 with 1 Axes>"
      ]
     },
     "metadata": {
      "needs_background": "light"
     },
     "output_type": "display_data"
    },
    {
     "name": "stdout",
     "output_type": "stream",
     "text": [
      "200\n",
      "6.282869765500028\n"
     ]
    },
    {
     "data": {
      "image/png": "[encoded data removed]",
      "text/plain": [
       "<Figure size 432x288 with 1 Axes>"
      ]
     },
     "metadata": {
      "needs_background": "light"
     },
     "output_type": "display_data"
    },
    {
     "name": "stdout",
     "output_type": "stream",
     "text": [
      "444\n",
      "3242.4908657388687\n"
     ]
    },
    {
     "data": {
      "image/png": "[encoded data removed]",
      "text/plain": [
       "<Figure size 432x288 with 1 Axes>"
      ]
     },
     "metadata": {
      "needs_background": "light"
     },
     "output_type": "display_data"
    }
   ],
   "source": [
    "for h in [20, 44, 200, 444]:\n",
    "    print(h)\n",
    "    eigs = get_eigs(x,[0.12, 0.12], h, 1, 0)\n",
    "    rads = np.sort(np.sqrt(eigs))\n",
    "    print(max(rads))\n",
    "    plt.bar(np.array(range(DIMS)), np.sort(rads))\n",
    "    plt.show()"
   ]
  },
  {
   "cell_type": "code",
   "execution_count": 64,
   "metadata": {},
   "outputs": [
    {
     "name": "stdout",
     "output_type": "stream",
     "text": [
      "20\n",
      "0.5\n"
     ]
    },
    {
     "data": {
      "image/png": "[encoded data removed]",
      "text/plain": [
       "<Figure size 432x288 with 1 Axes>"
      ]
     },
     "metadata": {
      "needs_background": "light"
     },
     "output_type": "display_data"
    },
    {
     "name": "stdout",
     "output_type": "stream",
     "text": [
      "44\n",
      "0.5\n"
     ]
    },
    {
     "data": {
      "image/png": "[encoded data removed]",
      "text/plain": [
       "<Figure size 432x288 with 1 Axes>"
      ]
     },
     "metadata": {
      "needs_background": "light"
     },
     "output_type": "display_data"
    },
    {
     "name": "stdout",
     "output_type": "stream",
     "text": [
      "200\n",
      "0.5\n"
     ]
    },
    {
     "data": {
      "image/png": "[encoded data removed]",
      "text/plain": [
       "<Figure size 432x288 with 1 Axes>"
      ]
     },
     "metadata": {
      "needs_background": "light"
     },
     "output_type": "display_data"
    },
    {
     "name": "stdout",
     "output_type": "stream",
     "text": [
      "444\n",
      "0.500109979210663\n"
     ]
    },
    {
     "data": {
      "image/png": "[encoded data removed]",
      "text/plain": [
       "<Figure size 432x288 with 1 Axes>"
      ]
     },
     "metadata": {
      "needs_background": "light"
     },
     "output_type": "display_data"
    }
   ],
   "source": [
    "for h in [20, 44, 200, 444]:\n",
    "    print(h)\n",
    "    eigs = get_eigs(x,[0.5, 0.12], h, 0, 0)\n",
    "    rads = np.sort(np.sqrt(eigs))\n",
    "    print(min(rads))\n",
    "    plt.bar(np.array(range(DIMS)), np.sort(rads))\n",
    "    plt.show()"
   ]
  },
  {
   "cell_type": "code",
   "execution_count": 14,
   "metadata": {},
   "outputs": [
    {
     "data": {
      "text/plain": [
       "0.4026199999999999"
      ]
     },
     "execution_count": 14,
     "metadata": {},
     "output_type": "execute_result"
    }
   ],
   "source": [
    "f = \"mnist_results/linear/hlayer20/min/train-0.12-0.12/test-0.12-0.12\"\n",
    "df = pd.read_csv(f, delimiter=\"\\t\")\n",
    "df.loc[df.correct == 0, \"radius\"] = 0 #set radius to zero for all incorrect predictions\n",
    "df.mean(axis = 0)[\"radius\"] #get average radius of correct robustness"
   ]
  },
  {
   "cell_type": "code",
   "execution_count": 147,
   "metadata": {},
   "outputs": [],
   "source": [
    "def avg_cor_rad(w, s0, s1, key = \"min\"):\n",
    "    \"\"\"\n",
    "    Returns the average radius in which the classifier is both robust and correct\n",
    "    param w : width of the hidden linear layer\n",
    "    param s0: sd of noise applied to input\n",
    "    param s1: sd of noise applied to hidden layer\n",
    "    param keyword: either \"min\" or \"mean\" for minimum radius of robustness or volume\n",
    "    returns: average radius over the test set in which classifier is both robust and correct\n",
    "    \"\"\"\n",
    "    f = \"mnist_results/linear/hlayer\" + str(w) + \"/\" + key + \"/train-\" + str(s0) + \"-\" + str(s1) + \"/test-\" + str(s0) + \"-\" + str(s1)\n",
    "    df = pd.read_csv(f, delimiter=\"\\t\")\n",
    "    df.loc[df.correct == 0, \"radius\"] = 0 #set radius to zero for all incorrect predictions\n",
    "    return df.mean(axis = 0)[\"radius\"] #get average radius of correct robustness"
   ]
  },
  {
   "cell_type": "code",
   "execution_count": 54,
   "metadata": {},
   "outputs": [],
   "source": [
    "rad_dict = {}\n",
    "for w in [20, 44, 200, 444]:\n",
    "    rad_dict[w] = {}\n",
    "    for i in [0.12, 0.25, 0.5, 1]:\n",
    "        rad_dict[w][i] = [avg_cor_rad(w, i, j) for j in [1, 0.5, 0.25, 0.12, 0]]"
   ]
  },
  {
   "cell_type": "code",
   "execution_count": 148,
   "metadata": {},
   "outputs": [],
   "source": [
    "vol_dict = {}\n",
    "for w in [20, 44, 200, 444]:\n",
    "    vol_dict[w] = {}\n",
    "    for i in [0.12, 0.25, 0.5, 1]:\n",
    "        vol_dict[w][i] = [avg_cor_rad(w, i, j, \"mean\") for j in [1, 0.5, 0.25, 0.12, 0]]"
   ]
  },
  {
   "cell_type": "code",
   "execution_count": 29,
   "metadata": {},
   "outputs": [],
   "source": [
    "def make_df(in_dict, w):\n",
    "    data = in_dict[w]\n",
    "    df = pd.DataFrame(data)\n",
    "    df.index = [1, 0.5, 0.25, 0.12]\n",
    "    return df"
   ]
  },
  {
   "cell_type": "code",
   "execution_count": 159,
   "metadata": {},
   "outputs": [],
   "source": [
    "def show_avg_rad(w, xlab = False, ylab = False, cbar = False):\n",
    "    data = rad_dict[w]\n",
    "    df = pd.DataFrame(data)\n",
    "    df.index = [1, 0.5, 0.25, 0.12, 0]\n",
    "    ax = heatmap(df, cmap = \"jet\", annot = True, annot_kws={\"size\": 15}, vmin = 0.35, vmax = 1.1, cbar = cbar)\n",
    "    ax.set_title(\"$w_1 =$\" + str(w))\n",
    "    if xlab:\n",
    "        ax.set_xlabel(\"$\\sigma_0$\")\n",
    "    if ylab:\n",
    "        ax.set_ylabel(\"$\\sigma_1$\")\n",
    "    plt.savefig(\"LOOK/plots/avg_min_rad\" + str(w) + \".pdf\")"
   ]
  },
  {
   "cell_type": "code",
   "execution_count": 175,
   "metadata": {},
   "outputs": [
    {
     "data": {
      "image/png": "[encoded data removed]",
      "text/plain": [
       "<Figure size 432x288 with 5 Axes>"
      ]
     },
     "metadata": {
      "needs_background": "light"
     },
     "output_type": "display_data"
    }
   ],
   "source": [
    "ws = [20, 44, 200, 444]\n",
    "df_lst = [make_df(rad_dict, w) for w in ws]\n",
    "\n",
    "fig, axn = plt.subplots(2, 2, sharex=True, sharey=True)\n",
    "cbar_ax = fig.add_axes([.91, .3, .03, .4])\n",
    "\n",
    "for i, ax in enumerate(axn.flat):\n",
    "    heatmap(df_lst[i], ax=ax,\n",
    "                cbar=i == 0,\n",
    "                vmin=0.35, vmax=1.1,\n",
    "                cbar_ax=None if i else cbar_ax,\n",
    "                cmap = \"jet\",\n",
    "                annot = True)\n",
    "    ax.set_title(\"$w_1 =$\" + str(ws[i]))\n",
    "    if i % 2 == 0:\n",
    "        ax.set_ylabel(\"$\\sigma_1$\")\n",
    "    if i > 1:\n",
    "        ax.set_xlabel(\"$\\sigma_0$\")\n",
    "plt.savefig(\"LOOK/plots/avg_min_rad.pdf\")"
   ]
  },
  {
   "cell_type": "code",
   "execution_count": 174,
   "metadata": {},
   "outputs": [
    {
     "data": {
      "image/png": "[encoded data removed]",
      "text/plain": [
       "<Figure size 432x288 with 5 Axes>"
      ]
     },
     "metadata": {
      "needs_background": "light"
     },
     "output_type": "display_data"
    }
   ],
   "source": [
    "ws = [20, 44, 200, 444]\n",
    "df_lst = [make_df(vol_dict, w) for w in ws]\n",
    "\n",
    "fig, axn = plt.subplots(2, 2, sharex=True, sharey=True)\n",
    "cbar_ax = fig.add_axes([.91, .3, .03, .4])\n",
    "\n",
    "for i, ax in enumerate(axn.flat):\n",
    "    heatmap(df_lst[i], ax=ax,\n",
    "                cbar=i == 0,\n",
    "                vmin=0.35, vmax=12,\n",
    "                cbar_ax=None if i else cbar_ax,\n",
    "                cmap = \"jet\",\n",
    "                annot = True)\n",
    "    ax.set_title(\"$w_1 =$\" + str(ws[i]))\n",
    "    if i % 2 == 0:\n",
    "        ax.set_ylabel(\"$\\sigma_1$\")\n",
    "    if i > 1:\n",
    "        ax.set_xlabel(\"$\\sigma_0$\")\n",
    "plt.savefig(\"LOOK/plots/avg_vol.pdf\")"
   ]
  },
  {
   "cell_type": "code",
   "execution_count": 11,
   "metadata": {},
   "outputs": [],
   "source": [
    "def upper_bound_robust(w, s0, s1):\n",
    "    f = \"mnist_real_checks/nonlinear/hlayer\" + str(w) + \"/min/train-\" + str(s0) + \"-\" + str(s1) + \"/test-\" + str(s0) + \"-\" + str(s1)\n",
    "    df = pd.read_csv(f, delimiter=\"\\t\")\n",
    "    return df.mean(axis = 0)[\"robust\"] "
   ]
  },
  {
   "cell_type": "code",
   "execution_count": 26,
   "metadata": {},
   "outputs": [],
   "source": [
    "rob_dict = {}\n",
    "for w in [20, 44, 200, 444]:\n",
    "    rob_dict[w] = {}\n",
    "    for i in [0.12, 0.25, 0.5, 1]:\n",
    "        rob_dict[w][i] = [upper_bound_robust(w, i, j) for j in [1, 0.5, 0.25, 0.12]]"
   ]
  },
  {
   "cell_type": "code",
   "execution_count": 27,
   "metadata": {},
   "outputs": [
    {
     "data": {
      "text/plain": [
       "{20: {0.12: [0.968421052631579, 1.0, 0.9387755102040817, 0.9479166666666666],\n",
       "  0.25: [1.0, 0.9583333333333334, 0.9894736842105263, 0.9787234042553191],\n",
       "  0.5: [0.967741935483871, 0.9888888888888889, 1.0, 0.978021978021978],\n",
       "  1: [1.0, 1.0, 1.0, 1.0]},\n",
       " 44: {0.12: [0.979381443298969,\n",
       "   0.9690721649484536,\n",
       "   0.979381443298969,\n",
       "   0.979381443298969],\n",
       "  0.25: [1.0, 0.9690721649484536, 0.96875, 0.9791666666666666],\n",
       "  0.5: [1.0, 1.0, 0.989247311827957, 0.9789473684210527],\n",
       "  1: [0.9885057471264368, 0.9888888888888889, 1.0, 1.0]},\n",
       " 200: {0.12: [0.9791666666666666, 0.9693877551020408, 0.9896907216494846, 1.0],\n",
       "  0.25: [0.9795918367346939,\n",
       "   0.9591836734693877,\n",
       "   0.9897959183673469,\n",
       "   0.9693877551020408],\n",
       "  0.5: [0.989247311827957, 0.9895833333333334, 1.0, 1.0],\n",
       "  1: [1.0, 0.9888888888888889, 1.0, 1.0]},\n",
       " 444: {0.12: [0.979381443298969,\n",
       "   0.9795918367346939,\n",
       "   0.9797979797979798,\n",
       "   0.9696969696969697],\n",
       "  0.25: [0.9895833333333334, 0.9693877551020408, 0.9797979797979798, 0.98],\n",
       "  0.5: [0.9893617021276596, 1.0, 1.0, 0.9896907216494846],\n",
       "  1: [1.0, 1.0, 1.0, 1.0]}}"
      ]
     },
     "execution_count": 27,
     "metadata": {},
     "output_type": "execute_result"
    }
   ],
   "source": [
    "rob_dict"
   ]
  },
  {
   "cell_type": "code",
   "execution_count": 31,
   "metadata": {},
   "outputs": [
    {
     "data": {
      "image/png": "[encoded data removed]",
      "text/plain": [
       "<Figure size 432x288 with 5 Axes>"
      ]
     },
     "metadata": {
      "needs_background": "light"
     },
     "output_type": "display_data"
    }
   ],
   "source": [
    "ws = [20, 44, 200, 444]\n",
    "df_lst = [make_df(rob_dict, w) for w in ws]\n",
    "\n",
    "fig, axn = plt.subplots(2, 2, sharex=True, sharey=True)\n",
    "cbar_ax = fig.add_axes([.91, .3, .03, .4])\n",
    "\n",
    "for i, ax in enumerate(axn.flat):\n",
    "    heatmap(df_lst[i], ax=ax,\n",
    "                cbar=i == 0,\n",
    "                cbar_ax=None if i else cbar_ax,\n",
    "                cmap = \"jet\",\n",
    "                annot = True)\n",
    "    ax.set_title(\"$w_1 =$\" + str(ws[i]))\n",
    "    if i % 2 == 0:\n",
    "        ax.set_ylabel(\"$\\sigma_1$\")\n",
    "    if i > 1:\n",
    "        ax.set_xlabel(\"$\\sigma_0$\")\n",
    "plt.savefig(\"LOOK/plots/upper_bound_robust.pdf\")"
   ]
  },
  {
   "cell_type": "code",
   "execution_count": null,
   "metadata": {},
   "outputs": [],
   "source": []
  }
 ],
 "metadata": {
  "kernelspec": {
   "display_name": "Python [conda env:smoothing] *",
   "language": "python",
   "name": "conda-env-smoothing-py"
  },
  "language_info": {
   "codemirror_mode": {
    "name": "ipython",
    "version": 3
   },
   "file_extension": ".py",
   "mimetype": "text/x-python",
   "name": "python",
   "nbconvert_exporter": "python",
   "pygments_lexer": "ipython3",
   "version": "3.8.5"
  }
 },
 "nbformat": 4,
 "nbformat_minor": 4
}
